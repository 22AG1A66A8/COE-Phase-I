{
 "cells": [
  {
   "cell_type": "code",
   "execution_count": null,
   "id": "9e2af828-8d12-4b11-a7e9-f92f1982af45",
   "metadata": {},
   "outputs": [],
   "source": [
    "internal = int(input(\"Internal : \"))\n",
    "external = int(input(\"External :\"))\n",
    "project = int(input(\"Project :\"))\n",
    "if internal >=50 and external >=50 and project>=50:\n",
    "    total = (70*project/100) + (20*external/100) + (10*internal/100)\n",
    "    print(\"Your total score : \",total)\n",
    "if total >=90:\n",
    "    print(\"You got Grade : A\")\n",
    "elif total >=70 and total  <90:\n",
    "    print(\"You got Grade B\")\n",
    "elif total > 50 and total <70:\n",
    "    print(\"You got grade C\")\n",
    "else : \n",
    "    if internal <=50 :\n",
    "        print (\"You failed in internal\")"
   ]
  },
  {
   "cell_type": "code",
   "execution_count": 13,
   "id": "ec27e4f9-ebef-419f-9c2d-069c80b1becb",
   "metadata": {},
   "outputs": [
    {
     "name": "stdin",
     "output_type": "stream",
     "text": [
      "Enter Prev units 5400\n",
      "Enter Pres units 6500\n"
     ]
    },
    {
     "name": "stdout",
     "output_type": "stream",
     "text": [
      "2773.0\n"
     ]
    }
   ],
   "source": [
    "prev=int(input(\"Enter Prev units\"))\n",
    "pres=int(input(\"Enter Pres units\"))\n",
    " \n",
    "units=pres-prev  \n",
    "bill=0\n",
    "if units<=50:\n",
    "    bill=units*0.50\n",
    "elif units<=150:\n",
    "    bill= 50*0.50+(units-50)*0.75\n",
    "elif units<=250:\n",
    "    bill=50*0.50+(100*0.75)+(units-150)*1.25\n",
    "else:\n",
    "    bill=50*0.50+(100*0.75)+(100*1.25)+(units-250)*2.50\n",
    "bill=bill+(bill*18)/100\n",
    "print(bill)"
   ]
  },
  {
   "cell_type": "code",
   "execution_count": 27,
   "id": "c6cc1ac5-6e80-4170-aeae-11c47b0aa39a",
   "metadata": {},
   "outputs": [
    {
     "name": "stdin",
     "output_type": "stream",
     "text": [
      "Enter the meal preference: Veg / Non-veg / Combo: combo\n",
      "Enter the quantity of your preferred meal : 4\n",
      "Is today festival? : yes\n"
     ]
    },
    {
     "name": "stdout",
     "output_type": "stream",
     "text": [
      "free desert\n",
      "Final Amount:1254.0\n"
     ]
    }
   ],
   "source": [
    "meal = input(\"Enter the meal preference: Veg / Non-veg / Combo:\").lower()\n",
    "quantity = int(input(\"Enter the quantity of your preferred meal :\"))\n",
    "festival = input(\"Is today festival? :\")\n",
    "veg=150\n",
    "nonveg=200\n",
    "combo=300\n",
    "if meal == \"veg\":\n",
    "    bill=quantity * veg\n",
    "elif meal == \"nonveg\":\n",
    "    bill=quantity * nonveg\n",
    "elif meal == \"combo\":\n",
    "    bill=quantity * combo\n",
    "if festival == \"yes\":\n",
    "    discount = bill*0.10\n",
    "else:\n",
    "    discount = 0\n",
    "total = bill - discount\n",
    "if total >1000:\n",
    "    print(\"free desert\")\n",
    "gst = total *0.05\n",
    "final = bill +gst\n",
    "print(f\"Final Amount:{final}\")"
   ]
  },
  {
   "cell_type": "code",
   "execution_count": 32,
   "id": "4822bb0e-88fa-4175-a99c-10a773b1b217",
   "metadata": {},
   "outputs": [
    {
     "name": "stdin",
     "output_type": "stream",
     "text": [
      "Enter student name : Harsha \n",
      "Enter ssc percentage : 90\n",
      "Enter inter percentage : 80\n",
      "Enter UG percentage : 79\n",
      "Enter income: 500000\n"
     ]
    },
    {
     "name": "stdout",
     "output_type": "stream",
     "text": [
      "Partial Scholarship\n"
     ]
    }
   ],
   "source": [
    "name = input(\"Enter student name :\")\n",
    "ssc= float(input(\"Enter ssc percentage :\"))\n",
    "inter = float (input(\"Enter inter percentage :\"))\n",
    "ug = float(input(\"Enter UG percentage :\"))\n",
    "income= int (input(\"Enter income:\"))\n",
    "if ssc >= 85 and inter >= 85 and ug>=85 and income <= 300000:\n",
    "    print(\"Free Scholarship!!\")\n",
    "elif ug>75 and income <=500000:\n",
    "    print(\"Partial Scholarship\")\n",
    "else :\n",
    "    print (\"No Scholarship .\")"
   ]
  },
  {
   "cell_type": "code",
   "execution_count": null,
   "id": "f449e5ef-3a01-4d48-aa5c-644c27a9f09f",
   "metadata": {},
   "outputs": [],
   "source": []
  }
 ],
 "metadata": {
  "kernelspec": {
   "display_name": "Python 3 (ipykernel)",
   "language": "python",
   "name": "python3"
  },
  "language_info": {
   "codemirror_mode": {
    "name": "ipython",
    "version": 3
   },
   "file_extension": ".py",
   "mimetype": "text/x-python",
   "name": "python",
   "nbconvert_exporter": "python",
   "pygments_lexer": "ipython3",
   "version": "3.11.7"
  }
 },
 "nbformat": 4,
 "nbformat_minor": 5
}
