{
 "cells": [
  {
   "cell_type": "code",
   "execution_count": 3,
   "id": "28681614-507e-4f02-af25-fea5f6ad48fb",
   "metadata": {},
   "outputs": [
    {
     "name": "stdout",
     "output_type": "stream",
     "text": [
      "40\n",
      "40.0\n"
     ]
    }
   ],
   "source": [
    "#int--->float\n",
    "a= 40\n",
    "b= float(a)\n",
    "print (a)\n",
    "print(b)"
   ]
  },
  {
   "cell_type": "code",
   "execution_count": 5,
   "id": "c2e53cf5-cfcd-4910-9dba-c2dfd399fd13",
   "metadata": {},
   "outputs": [
    {
     "name": "stdout",
     "output_type": "stream",
     "text": [
      "90\n",
      "90\n"
     ]
    }
   ],
   "source": [
    "#int-->str\n",
    "a= 90\n",
    "b=str(a)\n",
    "print(a)\n",
    "print(b)"
   ]
  },
  {
   "cell_type": "code",
   "execution_count": 6,
   "id": "f27aade7-c147-478c-a23d-4b9544f0eba2",
   "metadata": {},
   "outputs": [
    {
     "name": "stdout",
     "output_type": "stream",
     "text": [
      "90\n",
      "90\n"
     ]
    }
   ],
   "source": [
    "#str--->int\n",
    "a='90'\n",
    "b=str(a)\n",
    "print(a)\n",
    "print(b)"
   ]
  },
  {
   "cell_type": "code",
   "execution_count": 7,
   "id": "85e444cf-aed3-4aaf-a3f2-57ba594a1fff",
   "metadata": {},
   "outputs": [
    {
     "name": "stdout",
     "output_type": "stream",
     "text": [
      "99.32\n",
      "99\n"
     ]
    }
   ],
   "source": [
    "#float--->int\n",
    "a=99.32\n",
    "b=int(a)\n",
    "print(a)\n",
    "print(b)"
   ]
  },
  {
   "cell_type": "code",
   "execution_count": 8,
   "id": "6ffdf405-dab8-4635-8cdf-852a8c46ce78",
   "metadata": {},
   "outputs": [
    {
     "name": "stdout",
     "output_type": "stream",
     "text": [
      "67.65\n",
      "67.65\n"
     ]
    }
   ],
   "source": [
    "#string---->float\n",
    "a='67.65'\n",
    "b=float(a)\n",
    "print(a)\n",
    "print(b)"
   ]
  },
  {
   "cell_type": "code",
   "execution_count": 9,
   "id": "76ab0cc7-f64e-43e7-9589-dbac50baf044",
   "metadata": {},
   "outputs": [
    {
     "name": "stdin",
     "output_type": "stream",
     "text": [
      "Enter the amount 23200\n"
     ]
    },
    {
     "name": "stdout",
     "output_type": "stream",
     "text": [
      "500 notes are  46\n",
      "200 notes are  1\n"
     ]
    }
   ],
   "source": [
    "amount= int(input(\"Enter the amount\"))\n",
    "five=0\n",
    "two=0\n",
    "one=0\n",
    "if amount % 100 ==0 :\n",
    "    if amount>=500:\n",
    "        five = amount//500\n",
    "        print(\"500 notes are \",five)\n",
    "        amount = amount-(five*500)\n",
    "    if amount>=200:\n",
    "        two = amount//200\n",
    "        print(\"200 notes are \",two)\n",
    "        amount = amount-(two*200)\n",
    "    if amount>=100:\n",
    "        one = amount//100\n",
    "        print(\"100 notes are \",one)\n",
    "        amount = amount-(one*100)\n",
    "else :\n",
    "    print(\"Enter the amount in the multiples 100\")\n",
    "\n"
   ]
  },
  {
   "cell_type": "code",
   "execution_count": 3,
   "id": "19c981fc-39a6-4098-8cf7-82afccceaae4",
   "metadata": {},
   "outputs": [
    {
     "name": "stdin",
     "output_type": "stream",
     "text": [
      "Enter the basic salary 25000\n"
     ]
    },
    {
     "name": "stdout",
     "output_type": "stream",
     "text": [
      "Your Gross salary is 65250.0\n"
     ]
    }
   ],
   "source": [
    "bs =float (input(\"Enter the basic salary\"))\n",
    "if bs <20000:\n",
    "    hra = 0.76*bs\n",
    "    da = 0.78*bs\n",
    "elif 20000<=bs<=30000:\n",
    "    hra = 0.79*bs\n",
    "    da = 0.82*bs\n",
    "elif bs>30000:\n",
    "    hra = 0.85*bs\n",
    "    da = 0.89*bs\n",
    "gs = bs+da+hra\n",
    "\n",
    "print(\"Your Gross salary is\",gs)"
   ]
  },
  {
   "cell_type": "code",
   "execution_count": 24,
   "id": "f0d123bc-2467-4813-aac1-893b7336a71a",
   "metadata": {},
   "outputs": [
    {
     "name": "stdin",
     "output_type": "stream",
     "text": [
      "Enter your salary  1200000\n"
     ]
    },
    {
     "name": "stdout",
     "output_type": "stream",
     "text": [
      "TDS: 70000.0\n"
     ]
    }
   ],
   "source": [
    "salary = int (input(\"Enter your salary \"))\n",
    "if salary <=500000:\n",
    "    tds = 0*salary \n",
    "else:\n",
    "    if salary<=700000:\n",
    "        tds = 0.05*(salary-500000)\n",
    "    elif salary<=1000000:\n",
    "        tds = (200000*0.05)+(salary - 700000)*0.10\n",
    "    elif salary <= 1500000:\n",
    "        tds = (200000 * 0.05) + (300000 * 0.10) + (salary - 1000000) * 0.15\n",
    "    elif salary<=2000000:\n",
    "        tds = (200000 * 0.05) + (300000 * 0.10) + (500000 * 0.15) + (salary - 1500000) * 0.20\n",
    "    else:\n",
    "        tds = (200000 * 0.05) + (300000 * 0.10) + (500000 * 0.15) + (500000 * 0.20) + (salary - 2000000) * 0.30\n",
    "\n",
    "print(\"TDS:\",tds)"
   ]
  },
  {
   "cell_type": "code",
   "execution_count": null,
   "id": "f2f5db58-1f71-42cf-a289-4a6a4de3b7de",
   "metadata": {},
   "outputs": [],
   "source": []
  }
 ],
 "metadata": {
  "kernelspec": {
   "display_name": "Python 3 (ipykernel)",
   "language": "python",
   "name": "python3"
  },
  "language_info": {
   "codemirror_mode": {
    "name": "ipython",
    "version": 3
   },
   "file_extension": ".py",
   "mimetype": "text/x-python",
   "name": "python",
   "nbconvert_exporter": "python",
   "pygments_lexer": "ipython3",
   "version": "3.11.7"
  }
 },
 "nbformat": 4,
 "nbformat_minor": 5
}
