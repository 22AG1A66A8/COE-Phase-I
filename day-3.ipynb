{
 "cells": [
  {
   "cell_type": "code",
   "execution_count": 3,
   "id": "2b7298ce-92b0-412e-a03e-dd77b0ac71e7",
   "metadata": {},
   "outputs": [
    {
     "data": {
      "text/plain": [
       "4"
      ]
     },
     "execution_count": 3,
     "metadata": {},
     "output_type": "execute_result"
    }
   ],
   "source": [
    "num=5632\n",
    "c=0\n",
    "while num!=0:\n",
    "    num=num//10\n",
    "    c=c+1\n",
    "c"
   ]
  },
  {
   "cell_type": "code",
   "execution_count": 5,
   "id": "d4e25108-6673-41cf-ab57-b38b3e61e953",
   "metadata": {},
   "outputs": [
    {
     "name": "stdout",
     "output_type": "stream",
     "text": [
      "Even Count: 2\n",
      "Odd Count: 4\n"
     ]
    }
   ],
   "source": [
    "num=783781\n",
    "rem=0\n",
    "even=0\n",
    "odd = 0\n",
    "while num!=0:\n",
    "    rem = num%10\n",
    "    if rem %2==0:\n",
    "        even=even+1\n",
    "    else:\n",
    "        odd=odd+1\n",
    "    num=num//10\n",
    "print('Even Count:',even) \n",
    "print('Odd Count:',odd)\n"
   ]
  },
  {
   "cell_type": "code",
   "execution_count": 4,
   "id": "8e2632c5-acec-459c-957d-f040c3d3f761",
   "metadata": {},
   "outputs": [
    {
     "name": "stdout",
     "output_type": "stream",
     "text": [
      "16\n",
      "18\n"
     ]
    }
   ],
   "source": [
    "num = 783781\n",
    "even_sum = 0\n",
    "odd_sum = 0\n",
    "\n",
    "while num!=0:\n",
    "    rem=num%10\n",
    "    if rem % 2==0:\n",
    "        even_sum+=rem\n",
    "    else:\n",
    "        odd_sum+=rem\n",
    "    num = num // 10\n",
    "\n",
    "print('Even sum:',even_sum)\n",
    "print('Odd sum:',odd_sum)\n"
   ]
  },
  {
   "cell_type": "code",
   "execution_count": 2,
   "id": "9d049ef0-7480-4ab8-9cd1-c856cf4de71a",
   "metadata": {},
   "outputs": [
    {
     "name": "stdout",
     "output_type": "stream",
     "text": [
      "2 3 5 7 11 13 17 19 23 29 31 37 41 43 47 53 59 61 67 71 73 79 83 89 97 "
     ]
    }
   ],
   "source": [
    "num = 100\n",
    "i = 2\n",
    "while i <= num:\n",
    "    j = 2\n",
    "    count = 0\n",
    "    while j * j <= i:\n",
    "        if i % j == 0:\n",
    "            count = 1\n",
    "            break\n",
    "        j += 1\n",
    "    if count == 0:\n",
    "        print(i,end= \" \")\n",
    "    i += 1\n"
   ]
  },
  {
   "cell_type": "code",
   "execution_count": 46,
   "id": "ae9ccbbc-bbe2-45f3-9039-cfb1c4e95dc3",
   "metadata": {},
   "outputs": [
    {
     "name": "stdout",
     "output_type": "stream",
     "text": [
      "41\n",
      "Digits: 2\n",
      "Alphabets: 20\n",
      "Vowels: 13\n",
      "Spaces : 2\n",
      "Special Chars: 4\n"
     ]
    }
   ],
   "source": [
    "str = 'Hi,Adnan here mail:mohdadnan2k4@gmail.com'\n",
    "dig_count = 0\n",
    "alp_count = 0\n",
    "vowel = 'aeiouAEIOU'\n",
    "vow_count = 0\n",
    "spc_count = 0\n",
    "spcl_char = 0\n",
    "for char in str:\n",
    "    if char in vowel:\n",
    "        vow_count+=1\n",
    "    elif char.isdigit():\n",
    "        dig_count+=1\n",
    "    elif char.isalpha():\n",
    "        alp_count+=1\n",
    "    elif char.isspace():\n",
    "        spc_count+=1\n",
    "    else :\n",
    "        spcl_char += 1\n",
    "print(len(str))\n",
    "print('Digits:',dig_count)\n",
    "print('Alphabets:',alp_count)\n",
    "print('Vowels:',vow_count)\n",
    "print('Spaces :',spc_count)\n",
    "print('Special Chars:',spcl_char)    "
   ]
  },
  {
   "cell_type": "code",
   "execution_count": null,
   "id": "f6046c75-2db6-4678-948e-3968d6e012b0",
   "metadata": {},
   "outputs": [],
   "source": []
  }
 ],
 "metadata": {
  "kernelspec": {
   "display_name": "Python 3 (ipykernel)",
   "language": "python",
   "name": "python3"
  },
  "language_info": {
   "codemirror_mode": {
    "name": "ipython",
    "version": 3
   },
   "file_extension": ".py",
   "mimetype": "text/x-python",
   "name": "python",
   "nbconvert_exporter": "python",
   "pygments_lexer": "ipython3",
   "version": "3.11.7"
  }
 },
 "nbformat": 4,
 "nbformat_minor": 5
}
